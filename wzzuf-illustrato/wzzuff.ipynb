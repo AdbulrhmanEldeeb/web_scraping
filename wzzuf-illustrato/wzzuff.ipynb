{
 "cells": [
  {
   "cell_type": "code",
   "execution_count": 1,
   "id": "298b58d4-0087-4f73-956f-0341e02583af",
   "metadata": {},
   "outputs": [],
   "source": [
    "from bs4 import BeautifulSoup as bs \n",
    "from urllib.request import urlopen\n",
    "import csv "
   ]
  },
  {
   "cell_type": "code",
   "execution_count": 2,
   "id": "d4e76382-c048-4884-ae26-63b4580c4b48",
   "metadata": {},
   "outputs": [],
   "source": [
    "url='https://wuzzuf.net/search/jobs/?q=illustrator&a=navbg'"
   ]
  },
  {
   "cell_type": "code",
   "execution_count": 3,
   "id": "2e470a17-e1c1-4f05-b948-f5c615f179ac",
   "metadata": {},
   "outputs": [],
   "source": [
    "client=urlopen(url)"
   ]
  },
  {
   "cell_type": "code",
   "execution_count": 4,
   "id": "2536ef34-e26a-4cc2-95e7-2bf1a9fa74ca",
   "metadata": {},
   "outputs": [],
   "source": [
    "html=client.read()"
   ]
  },
  {
   "cell_type": "code",
   "execution_count": 5,
   "id": "52091a18-5174-4209-8d52-78843b8f4293",
   "metadata": {},
   "outputs": [],
   "source": [
    "client.close()"
   ]
  },
  {
   "cell_type": "code",
   "execution_count": 6,
   "id": "2ff1ca28-bbad-4936-a10a-88f6df7c0190",
   "metadata": {},
   "outputs": [],
   "source": [
    "soup=bs(html,'html.parser')"
   ]
  },
  {
   "cell_type": "code",
   "execution_count": 7,
   "id": "21c91430-fc32-48ab-bfa9-8206e9485951",
   "metadata": {},
   "outputs": [],
   "source": [
    "containers=soup.find_all('div',{'class':'css-1gatmva e1v1l3u10'})"
   ]
  },
  {
   "cell_type": "code",
   "execution_count": 8,
   "id": "38739299-3504-4a82-861d-aeee3d97e690",
   "metadata": {},
   "outputs": [],
   "source": [
    "title= containers[0].find('h2',{'class','css-m604qf'}).text.strip()\n"
   ]
  },
  {
   "cell_type": "code",
   "execution_count": 9,
   "id": "c9c27e6b-f1f4-4b2f-a463-39b0e1b8dd54",
   "metadata": {},
   "outputs": [
    {
     "data": {
      "text/plain": [
       "'Graphic Designer'"
      ]
     },
     "execution_count": 9,
     "metadata": {},
     "output_type": "execute_result"
    }
   ],
   "source": [
    "title "
   ]
  },
  {
   "cell_type": "code",
   "execution_count": 10,
   "id": "a78c0d5d-2e60-4498-acb5-931d1a3b3e02",
   "metadata": {},
   "outputs": [
    {
     "data": {
      "text/plain": [
       "'Graphic Designer'"
      ]
     },
     "execution_count": 10,
     "metadata": {},
     "output_type": "execute_result"
    }
   ],
   "source": [
    "containers[0].div.h2.text "
   ]
  },
  {
   "cell_type": "code",
   "execution_count": 11,
   "id": "4e7551a8-d43f-4dd5-9720-d69261855d89",
   "metadata": {},
   "outputs": [],
   "source": [
    "company =containers[0].find('div',{'class':'css-d7j1kk'})"
   ]
  },
  {
   "cell_type": "code",
   "execution_count": 12,
   "id": "4e9eb1c7-cd2f-44a4-8b02-bef5e126e885",
   "metadata": {},
   "outputs": [
    {
     "data": {
      "text/plain": [
       "'Ascension Business Developments - 6th of October, Giza, Egypt 1 hour ago'"
      ]
     },
     "execution_count": 12,
     "metadata": {},
     "output_type": "execute_result"
    }
   ],
   "source": [
    "company.text"
   ]
  },
  {
   "cell_type": "code",
   "execution_count": 13,
   "id": "be90c9d0-5f66-4bfe-b40a-ce43f2403034",
   "metadata": {},
   "outputs": [],
   "source": [
    "kind=containers[0].find('span',{'class':'css-1ve4b75 eoyjyou0'})"
   ]
  },
  {
   "cell_type": "code",
   "execution_count": 14,
   "id": "284649c8-60c5-483b-a370-084783877b4b",
   "metadata": {},
   "outputs": [
    {
     "data": {
      "text/plain": [
       "'Full Time'"
      ]
     },
     "execution_count": 14,
     "metadata": {},
     "output_type": "execute_result"
    }
   ],
   "source": [
    "kind.text"
   ]
  },
  {
   "cell_type": "code",
   "execution_count": 15,
   "id": "7bce55bd-4433-4952-8908-cad35dc89a47",
   "metadata": {},
   "outputs": [],
   "source": [
    "description=containers[0].findAll('a',{'class':'css-o171kl'})"
   ]
  },
  {
   "cell_type": "code",
   "execution_count": 16,
   "id": "6fd49a15-3034-48a5-af42-18d4d15a91a2",
   "metadata": {},
   "outputs": [],
   "source": [
    "# for i in      range(len(description)):\n",
    "#     print(description[i].text)\n",
    "    "
   ]
  },
  {
   "cell_type": "code",
   "execution_count": null,
   "id": "977be0fc-2c13-4b3d-93c6-5ecec8e50a66",
   "metadata": {},
   "outputs": [],
   "source": []
  },
  {
   "cell_type": "code",
   "execution_count": 17,
   "id": "9711b8a7-a794-407a-8210-81088fbd4192",
   "metadata": {},
   "outputs": [],
   "source": [
    "# f=open(\"wzzuf-illustrato.csv\",\"w\")\n",
    "\n",
    "# header=\"job_title, company_name, job_type\\n\"\n",
    "# f.write(header)\n"
   ]
  },
  {
   "cell_type": "code",
   "execution_count": 18,
   "id": "718ab2d1-d997-4325-8164-403fae87be15",
   "metadata": {},
   "outputs": [],
   "source": [
    "# for container in containers:\n",
    "#     company =container.find('div',{'class':'css-d7j1kk'})\n",
    "#     com_name=company.text.strip() \n",
    "#     title1= container.find('h2',{'class','css-m604qf'}).text.strip()\n",
    "#     kind1=container.find('span',{'class':'css-1ve4b75 eoyjyou0'}).text.strip()\n",
    "#     # print(com_name)\n",
    "#     # print(title1)\n",
    "#     # print(kind1) \n",
    "#     # print('#'*10)\n",
    "#     f.write(title1+', '+com_name+', '+kind1+', '+'\\n')\n",
    "    "
   ]
  },
  {
   "cell_type": "code",
   "execution_count": 19,
   "id": "7f153914-5bbd-4655-a181-c7a43ca8e4d6",
   "metadata": {},
   "outputs": [],
   "source": [
    "# f.close()"
   ]
  },
  {
   "cell_type": "code",
   "execution_count": 20,
   "id": "b3aa23ee-7f6f-465c-9e30-30745659410b",
   "metadata": {},
   "outputs": [],
   "source": [
    "# url='https://wuzzuf.net/search/jobs/?a=navbg&q=illustrator&start=0'\n",
    "# client=urlopen(url)\n",
    "# html=client.read()\n",
    "# client.close()\n",
    "# soup=bs(html,'html.parser')\n",
    "# containers=soup.find_all('div',{'class':'css-1gatmva e1v1l3u10'})\n",
    "# title= containers[0].find('h2',{'class','css-m604qf'}).text.strip()\n",
    "# company =containers[0].find('div',{'class':'css-d7j1kk'})\n",
    "# kind=containers[0].find('span',{'class':'css-1ve4b75 eoyjyou0'})\n",
    "# description=containers[0].findAll('a',{'class':'css-o171kl'})\n",
    "# f=open(\"wzzuf-illustrato.csv\",\"w\")\n",
    "\n",
    "# header=\"job_title, company_name, job_type\\n\"\n",
    "# f.write(header)\n",
    "# for container in containers:\n",
    "#     company =container.find('div',{'class':'css-d7j1kk'})\n",
    "#     com_name=company.text.strip() \n",
    "#     title1= container.find('h2',{'class','css-m604qf'}).text.strip()\n",
    "#     kind1=container.find('span',{'class':'css-1ve4b75 eoyjyou0'}).text.strip()\n",
    "#     # print(com_name)\n",
    "#     # print(title1)\n",
    "#     # print(kind1) \n",
    "#     # print('#'*10)\n",
    "#     f.write(title1+', '+com_name+', '+kind1+', '+'\\n')\n",
    "# f.close()    "
   ]
  },
  {
   "cell_type": "code",
   "execution_count": 21,
   "id": "93db3a3b-4f34-495a-a052-cf8951e618be",
   "metadata": {},
   "outputs": [],
   "source": [
    "###### from urllib.request import urlopen\n",
    "# from bs4 import BeautifulSoup as bs\n",
    "\n",
    "# # Initialize an empty list to store all job containers\n",
    "# all_containers = []\n",
    "\n",
    "# # Iterate through all 60 pages\n",
    "# for page_num in range(60):\n",
    "#     url = f'https://wuzzuf.net/search/jobs/?a=navbg&q=illustrator&start={page_num}'\n",
    "#     client = urlopen(url)\n",
    "#     html = client.read()\n",
    "#     client.close()\n",
    "#     soup = bs(html, 'html.parser')\n",
    "#     containers = soup.find_all('div', {'class': 'css-1gatmva e1v1l3u10'})\n",
    "#     all_containers.extend(containers)\n",
    "\n",
    "# # Write data to CSV file\n",
    "# with open(\"wzzuf-illustrato.csv\", \"w\",encoding='UTF8') as f:\n",
    "#     header = \"job_title, company_name, job_type\\n\"\n",
    "#     f.write(header)\n",
    "    \n",
    "#     for container in all_containers:\n",
    "#         company = container.find('div', {'class': 'css-d7j1kk'})\n",
    "#         com_name = company.text.strip()\n",
    "#         title1 = container.find('h2', {'class', 'css-m604qf'}).text.strip()\n",
    "#         kind1 = container.find('span', {'class': 'css-1ve4b75 eoyjyou0'}).text.strip()\n",
    "#         f.write(title1 + ', ' + com_name + ', ' + kind1 + ', ' + '\\n')\n"
   ]
  },
  {
   "cell_type": "code",
   "execution_count": 22,
   "id": "c9f7d366-82c5-46cc-b241-83b5f841474f",
   "metadata": {},
   "outputs": [],
   "source": [
    "import pandas as pd \n",
    "df=pd.read_csv('wzzuf-illustrato.csv',skiprows=1)"
   ]
  },
  {
   "cell_type": "code",
   "execution_count": 23,
   "id": "ed800038-1912-45b2-b705-7ba5c4cde985",
   "metadata": {},
   "outputs": [
    {
     "data": {
      "text/plain": [
       "(640, 6)"
      ]
     },
     "execution_count": 23,
     "metadata": {},
     "output_type": "execute_result"
    }
   ],
   "source": [
    "df.shape"
   ]
  },
  {
   "cell_type": "code",
   "execution_count": 24,
   "id": "858b5b50-72b1-44b2-be3d-79b8646fe647",
   "metadata": {},
   "outputs": [],
   "source": [
    "df=df.iloc[:,:-1]"
   ]
  },
  {
   "cell_type": "code",
   "execution_count": 25,
   "id": "a4877a28-2805-4211-8713-60c19428fe3b",
   "metadata": {},
   "outputs": [],
   "source": [
    "# df.columns=['jop_title','company_name','city','country','jop_type','null_1']"
   ]
  },
  {
   "cell_type": "code",
   "execution_count": 26,
   "id": "e1b6e95a-77eb-4891-b82a-f2217d57332d",
   "metadata": {},
   "outputs": [
    {
     "data": {
      "text/plain": [
       "Graphic Designer                  0\n",
       " Bees Studio L.L.C - Nasr City    1\n",
       " Cairo                            0\n",
       " Egypt 1 hour ago                 0\n",
       " Part Time                        0\n",
       "dtype: int64"
      ]
     },
     "execution_count": 26,
     "metadata": {},
     "output_type": "execute_result"
    }
   ],
   "source": [
    "df.isnull().sum()"
   ]
  },
  {
   "cell_type": "code",
   "execution_count": 27,
   "id": "f9eb1584-ccfa-4d02-b61e-f28fd26c01a9",
   "metadata": {},
   "outputs": [
    {
     "data": {
      "text/html": [
       "<div>\n",
       "<style scoped>\n",
       "    .dataframe tbody tr th:only-of-type {\n",
       "        vertical-align: middle;\n",
       "    }\n",
       "\n",
       "    .dataframe tbody tr th {\n",
       "        vertical-align: top;\n",
       "    }\n",
       "\n",
       "    .dataframe thead th {\n",
       "        text-align: right;\n",
       "    }\n",
       "</style>\n",
       "<table border=\"1\" class=\"dataframe\">\n",
       "  <thead>\n",
       "    <tr style=\"text-align: right;\">\n",
       "      <th></th>\n",
       "      <th>Graphic Designer</th>\n",
       "      <th>Bees Studio L.L.C - Nasr City</th>\n",
       "      <th>Cairo</th>\n",
       "      <th>Egypt 1 hour ago</th>\n",
       "      <th>Part Time</th>\n",
       "    </tr>\n",
       "  </thead>\n",
       "  <tbody>\n",
       "    <tr>\n",
       "      <th>0</th>\n",
       "      <td>Senior Graphic Designer</td>\n",
       "      <td>Ashraqat For Integrated Solutions - Mohandessin</td>\n",
       "      <td>Giza</td>\n",
       "      <td>Egypt 4 days ago</td>\n",
       "      <td>Full Time</td>\n",
       "    </tr>\n",
       "    <tr>\n",
       "      <th>1</th>\n",
       "      <td>Senior Graphic Designer</td>\n",
       "      <td>Main Marks - New Cairo</td>\n",
       "      <td>Cairo</td>\n",
       "      <td>Egypt 4 days ago</td>\n",
       "      <td>Full Time</td>\n",
       "    </tr>\n",
       "    <tr>\n",
       "      <th>2</th>\n",
       "      <td>Graphic Designer</td>\n",
       "      <td>MixTender Beverages - 10th of Ramadan City</td>\n",
       "      <td>Cairo</td>\n",
       "      <td>Egypt 5 days ago</td>\n",
       "      <td>Full Time</td>\n",
       "    </tr>\n",
       "    <tr>\n",
       "      <th>3</th>\n",
       "      <td>Senior Graphic Designer</td>\n",
       "      <td>Nahdet Misr Publishing Group - Mohandessin</td>\n",
       "      <td>Giza</td>\n",
       "      <td>Egypt 6 days ago</td>\n",
       "      <td>Full Time</td>\n",
       "    </tr>\n",
       "    <tr>\n",
       "      <th>4</th>\n",
       "      <td>Graphic Designer</td>\n",
       "      <td>Whitebalance Studios - Downtown</td>\n",
       "      <td>Cairo</td>\n",
       "      <td>Egypt 5 days ago</td>\n",
       "      <td>Full Time</td>\n",
       "    </tr>\n",
       "    <tr>\n",
       "      <th>...</th>\n",
       "      <td>...</td>\n",
       "      <td>...</td>\n",
       "      <td>...</td>\n",
       "      <td>...</td>\n",
       "      <td>...</td>\n",
       "    </tr>\n",
       "    <tr>\n",
       "      <th>635</th>\n",
       "      <td>Head Hostess</td>\n",
       "      <td>FIVE Hotels and Resorts - Dubai</td>\n",
       "      <td>United Arab Emirates 30 days ago</td>\n",
       "      <td>Full Time</td>\n",
       "      <td></td>\n",
       "    </tr>\n",
       "    <tr>\n",
       "      <th>636</th>\n",
       "      <td>In Room Dining - Order Taker (Arabic Speaker)</td>\n",
       "      <td>FIVE Hotels &amp; Resorts - Dubai</td>\n",
       "      <td>United Arab Emirates 29 days ago</td>\n",
       "      <td>Full Time</td>\n",
       "      <td></td>\n",
       "    </tr>\n",
       "    <tr>\n",
       "      <th>637</th>\n",
       "      <td>Head Waiter/Waitress</td>\n",
       "      <td>FIVE Hotels and Resorts - Dubai</td>\n",
       "      <td>United Arab Emirates 30 days ago</td>\n",
       "      <td>Full Time</td>\n",
       "      <td></td>\n",
       "    </tr>\n",
       "    <tr>\n",
       "      <th>638</th>\n",
       "      <td>Junior Sous Chef - Mediterranean Cuisine</td>\n",
       "      <td>FIVE Hotels and Resorts - Dubai</td>\n",
       "      <td>United Arab Emirates 30 days ago</td>\n",
       "      <td>Full Time</td>\n",
       "      <td></td>\n",
       "    </tr>\n",
       "    <tr>\n",
       "      <th>639</th>\n",
       "      <td>IT Specialist - FIVE LUXE JBR</td>\n",
       "      <td>FIVE Hotels and Resorts - Dubai</td>\n",
       "      <td>United Arab Emirates 27 days ago</td>\n",
       "      <td>Full Time</td>\n",
       "      <td></td>\n",
       "    </tr>\n",
       "  </tbody>\n",
       "</table>\n",
       "<p>640 rows × 5 columns</p>\n",
       "</div>"
      ],
      "text/plain": [
       "                                  Graphic Designer  \\\n",
       "0                          Senior Graphic Designer   \n",
       "1                          Senior Graphic Designer   \n",
       "2                                 Graphic Designer   \n",
       "3                          Senior Graphic Designer   \n",
       "4                                 Graphic Designer   \n",
       "..                                             ...   \n",
       "635                                   Head Hostess   \n",
       "636  In Room Dining - Order Taker (Arabic Speaker)   \n",
       "637                           Head Waiter/Waitress   \n",
       "638       Junior Sous Chef - Mediterranean Cuisine   \n",
       "639                  IT Specialist - FIVE LUXE JBR   \n",
       "\n",
       "                        Bees Studio L.L.C - Nasr City  \\\n",
       "0     Ashraqat For Integrated Solutions - Mohandessin   \n",
       "1                              Main Marks - New Cairo   \n",
       "2          MixTender Beverages - 10th of Ramadan City   \n",
       "3          Nahdet Misr Publishing Group - Mohandessin   \n",
       "4                     Whitebalance Studios - Downtown   \n",
       "..                                                ...   \n",
       "635                   FIVE Hotels and Resorts - Dubai   \n",
       "636                     FIVE Hotels & Resorts - Dubai   \n",
       "637                   FIVE Hotels and Resorts - Dubai   \n",
       "638                   FIVE Hotels and Resorts - Dubai   \n",
       "639                   FIVE Hotels and Resorts - Dubai   \n",
       "\n",
       "                                 Cairo   Egypt 1 hour ago   Part Time  \n",
       "0                                 Giza   Egypt 4 days ago   Full Time  \n",
       "1                                Cairo   Egypt 4 days ago   Full Time  \n",
       "2                                Cairo   Egypt 5 days ago   Full Time  \n",
       "3                                 Giza   Egypt 6 days ago   Full Time  \n",
       "4                                Cairo   Egypt 5 days ago   Full Time  \n",
       "..                                 ...                ...         ...  \n",
       "635   United Arab Emirates 30 days ago          Full Time              \n",
       "636   United Arab Emirates 29 days ago          Full Time              \n",
       "637   United Arab Emirates 30 days ago          Full Time              \n",
       "638   United Arab Emirates 30 days ago          Full Time              \n",
       "639   United Arab Emirates 27 days ago          Full Time              \n",
       "\n",
       "[640 rows x 5 columns]"
      ]
     },
     "execution_count": 27,
     "metadata": {},
     "output_type": "execute_result"
    }
   ],
   "source": [
    "df"
   ]
  },
  {
   "cell_type": "code",
   "execution_count": 29,
   "id": "d43f1a30-bc1b-4dd7-8a98-cafd9d11da39",
   "metadata": {},
   "outputs": [],
   "source": [
    "# df[['company_name_1','city_1']]=df['company_name'].str.split('-',expand=True,n=1)"
   ]
  },
  {
   "cell_type": "code",
   "execution_count": 30,
   "id": "74841b64-bb03-4975-b7a5-0cbb6663d0e0",
   "metadata": {},
   "outputs": [
    {
     "data": {
      "text/html": [
       "<div>\n",
       "<style scoped>\n",
       "    .dataframe tbody tr th:only-of-type {\n",
       "        vertical-align: middle;\n",
       "    }\n",
       "\n",
       "    .dataframe tbody tr th {\n",
       "        vertical-align: top;\n",
       "    }\n",
       "\n",
       "    .dataframe thead th {\n",
       "        text-align: right;\n",
       "    }\n",
       "</style>\n",
       "<table border=\"1\" class=\"dataframe\">\n",
       "  <thead>\n",
       "    <tr style=\"text-align: right;\">\n",
       "      <th></th>\n",
       "      <th>Graphic Designer</th>\n",
       "      <th>Bees Studio L.L.C - Nasr City</th>\n",
       "      <th>Cairo</th>\n",
       "      <th>Egypt 1 hour ago</th>\n",
       "      <th>Part Time</th>\n",
       "    </tr>\n",
       "  </thead>\n",
       "  <tbody>\n",
       "    <tr>\n",
       "      <th>0</th>\n",
       "      <td>Senior Graphic Designer</td>\n",
       "      <td>Ashraqat For Integrated Solutions - Mohandessin</td>\n",
       "      <td>Giza</td>\n",
       "      <td>Egypt 4 days ago</td>\n",
       "      <td>Full Time</td>\n",
       "    </tr>\n",
       "    <tr>\n",
       "      <th>1</th>\n",
       "      <td>Senior Graphic Designer</td>\n",
       "      <td>Main Marks - New Cairo</td>\n",
       "      <td>Cairo</td>\n",
       "      <td>Egypt 4 days ago</td>\n",
       "      <td>Full Time</td>\n",
       "    </tr>\n",
       "    <tr>\n",
       "      <th>2</th>\n",
       "      <td>Graphic Designer</td>\n",
       "      <td>MixTender Beverages - 10th of Ramadan City</td>\n",
       "      <td>Cairo</td>\n",
       "      <td>Egypt 5 days ago</td>\n",
       "      <td>Full Time</td>\n",
       "    </tr>\n",
       "    <tr>\n",
       "      <th>3</th>\n",
       "      <td>Senior Graphic Designer</td>\n",
       "      <td>Nahdet Misr Publishing Group - Mohandessin</td>\n",
       "      <td>Giza</td>\n",
       "      <td>Egypt 6 days ago</td>\n",
       "      <td>Full Time</td>\n",
       "    </tr>\n",
       "    <tr>\n",
       "      <th>4</th>\n",
       "      <td>Graphic Designer</td>\n",
       "      <td>Whitebalance Studios - Downtown</td>\n",
       "      <td>Cairo</td>\n",
       "      <td>Egypt 5 days ago</td>\n",
       "      <td>Full Time</td>\n",
       "    </tr>\n",
       "    <tr>\n",
       "      <th>...</th>\n",
       "      <td>...</td>\n",
       "      <td>...</td>\n",
       "      <td>...</td>\n",
       "      <td>...</td>\n",
       "      <td>...</td>\n",
       "    </tr>\n",
       "    <tr>\n",
       "      <th>635</th>\n",
       "      <td>Head Hostess</td>\n",
       "      <td>FIVE Hotels and Resorts - Dubai</td>\n",
       "      <td>United Arab Emirates 30 days ago</td>\n",
       "      <td>Full Time</td>\n",
       "      <td></td>\n",
       "    </tr>\n",
       "    <tr>\n",
       "      <th>636</th>\n",
       "      <td>In Room Dining - Order Taker (Arabic Speaker)</td>\n",
       "      <td>FIVE Hotels &amp; Resorts - Dubai</td>\n",
       "      <td>United Arab Emirates 29 days ago</td>\n",
       "      <td>Full Time</td>\n",
       "      <td></td>\n",
       "    </tr>\n",
       "    <tr>\n",
       "      <th>637</th>\n",
       "      <td>Head Waiter/Waitress</td>\n",
       "      <td>FIVE Hotels and Resorts - Dubai</td>\n",
       "      <td>United Arab Emirates 30 days ago</td>\n",
       "      <td>Full Time</td>\n",
       "      <td></td>\n",
       "    </tr>\n",
       "    <tr>\n",
       "      <th>638</th>\n",
       "      <td>Junior Sous Chef - Mediterranean Cuisine</td>\n",
       "      <td>FIVE Hotels and Resorts - Dubai</td>\n",
       "      <td>United Arab Emirates 30 days ago</td>\n",
       "      <td>Full Time</td>\n",
       "      <td></td>\n",
       "    </tr>\n",
       "    <tr>\n",
       "      <th>639</th>\n",
       "      <td>IT Specialist - FIVE LUXE JBR</td>\n",
       "      <td>FIVE Hotels and Resorts - Dubai</td>\n",
       "      <td>United Arab Emirates 27 days ago</td>\n",
       "      <td>Full Time</td>\n",
       "      <td></td>\n",
       "    </tr>\n",
       "  </tbody>\n",
       "</table>\n",
       "<p>640 rows × 5 columns</p>\n",
       "</div>"
      ],
      "text/plain": [
       "                                  Graphic Designer  \\\n",
       "0                          Senior Graphic Designer   \n",
       "1                          Senior Graphic Designer   \n",
       "2                                 Graphic Designer   \n",
       "3                          Senior Graphic Designer   \n",
       "4                                 Graphic Designer   \n",
       "..                                             ...   \n",
       "635                                   Head Hostess   \n",
       "636  In Room Dining - Order Taker (Arabic Speaker)   \n",
       "637                           Head Waiter/Waitress   \n",
       "638       Junior Sous Chef - Mediterranean Cuisine   \n",
       "639                  IT Specialist - FIVE LUXE JBR   \n",
       "\n",
       "                        Bees Studio L.L.C - Nasr City  \\\n",
       "0     Ashraqat For Integrated Solutions - Mohandessin   \n",
       "1                              Main Marks - New Cairo   \n",
       "2          MixTender Beverages - 10th of Ramadan City   \n",
       "3          Nahdet Misr Publishing Group - Mohandessin   \n",
       "4                     Whitebalance Studios - Downtown   \n",
       "..                                                ...   \n",
       "635                   FIVE Hotels and Resorts - Dubai   \n",
       "636                     FIVE Hotels & Resorts - Dubai   \n",
       "637                   FIVE Hotels and Resorts - Dubai   \n",
       "638                   FIVE Hotels and Resorts - Dubai   \n",
       "639                   FIVE Hotels and Resorts - Dubai   \n",
       "\n",
       "                                 Cairo   Egypt 1 hour ago   Part Time  \n",
       "0                                 Giza   Egypt 4 days ago   Full Time  \n",
       "1                                Cairo   Egypt 4 days ago   Full Time  \n",
       "2                                Cairo   Egypt 5 days ago   Full Time  \n",
       "3                                 Giza   Egypt 6 days ago   Full Time  \n",
       "4                                Cairo   Egypt 5 days ago   Full Time  \n",
       "..                                 ...                ...         ...  \n",
       "635   United Arab Emirates 30 days ago          Full Time              \n",
       "636   United Arab Emirates 29 days ago          Full Time              \n",
       "637   United Arab Emirates 30 days ago          Full Time              \n",
       "638   United Arab Emirates 30 days ago          Full Time              \n",
       "639   United Arab Emirates 27 days ago          Full Time              \n",
       "\n",
       "[640 rows x 5 columns]"
      ]
     },
     "execution_count": 30,
     "metadata": {},
     "output_type": "execute_result"
    }
   ],
   "source": [
    "df"
   ]
  },
  {
   "cell_type": "code",
   "execution_count": 38,
   "id": "02b79395-1d96-4684-ab15-4ddd0b58792c",
   "metadata": {},
   "outputs": [
    {
     "name": "stdout",
     "output_type": "stream",
     "text": [
      "  key  value_x  value_y\n",
      "0   B        2        5\n",
      "1   D        4        6\n"
     ]
    }
   ],
   "source": [
    "import pandas as pd\n",
    "\n",
    "# Create two sample DataFrames\n",
    "df1 = pd.DataFrame({'key': ['A', 'B', 'C', 'D'],\n",
    "                    'value': [1, 2, 3, 4]})\n",
    "\n",
    "df2 = pd.DataFrame({'key': ['B', 'D', 'E', 'F'],\n",
    "                    'value': [5, 6, 7, 8]})\n",
    "\n",
    "# Merge the two DataFrames based on the 'key' column\n",
    "merged_df = pd.merge(df1, df2, on='key', how='inner')        # how='outer'      how='left'\n",
    "\n",
    "print(merged_df)\n"
   ]
  },
  {
   "cell_type": "code",
   "execution_count": null,
   "id": "6f385ef0-87b2-4e3a-85b0-fc14d5b6c459",
   "metadata": {},
   "outputs": [],
   "source": [
    "df_1=df.iloc[:,[0,-3,-2,-1]]"
   ]
  },
  {
   "cell_type": "code",
   "execution_count": null,
   "id": "669ba31e-05e6-4611-bc8a-a10d5352c3dc",
   "metadata": {},
   "outputs": [],
   "source": [
    "df_1"
   ]
  },
  {
   "cell_type": "code",
   "execution_count": null,
   "id": "70f1fcb8-b9e0-4f29-86ce-b414ba0abb09",
   "metadata": {},
   "outputs": [],
   "source": [
    "df['jop_type'].unique()"
   ]
  },
  {
   "cell_type": "code",
   "execution_count": null,
   "id": "40b72181-ae01-4400-86ab-3585bbd4e0c2",
   "metadata": {},
   "outputs": [],
   "source": [
    "tyspes=['Full Time', 'Internship', 'Part Time',\n",
    "       'Freelance / Project']"
   ]
  },
  {
   "cell_type": "code",
   "execution_count": null,
   "id": "a1047c96-1efa-4fdf-b87b-35d8d178775a",
   "metadata": {},
   "outputs": [],
   "source": [
    "import random\n",
    "types = ['Full Time', 'Internship', 'Part Time', 'Freelance / Project']\n",
    "\n",
    "# Randomly assign job types to the 'job_type' column\n",
    "df_1['job_type'] = [random.choice(types) for _ in range(len(df))]"
   ]
  },
  {
   "cell_type": "code",
   "execution_count": null,
   "id": "373d14d3-7690-45f0-8760-aa6c40841672",
   "metadata": {},
   "outputs": [],
   "source": [
    "df_1.isnull().sum()"
   ]
  },
  {
   "cell_type": "code",
   "execution_count": null,
   "id": "1621f27d-1aa7-4b38-802b-f85af76ebab2",
   "metadata": {},
   "outputs": [],
   "source": [
    "df_1"
   ]
  },
  {
   "cell_type": "code",
   "execution_count": null,
   "id": "fa30cccc-07a9-460f-b7e2-16c56df7b909",
   "metadata": {},
   "outputs": [],
   "source": [
    "df_1=df_1.iloc[:,[0,2,3,4]]"
   ]
  },
  {
   "cell_type": "code",
   "execution_count": null,
   "id": "b2945690-79c8-4f97-ab6e-c01993f030de",
   "metadata": {},
   "outputs": [],
   "source": [
    "df_1"
   ]
  },
  {
   "cell_type": "code",
   "execution_count": null,
   "id": "81cce07b-eb53-418b-ae9f-a54e1774cf6c",
   "metadata": {},
   "outputs": [],
   "source": [
    "df_1.rename(columns={'company_name_1':'company_name','city_1':'city'},inplace=True)"
   ]
  },
  {
   "cell_type": "code",
   "execution_count": null,
   "id": "bac616a7-9544-47fc-8171-da785606f0ac",
   "metadata": {},
   "outputs": [],
   "source": [
    "df_1"
   ]
  },
  {
   "cell_type": "code",
   "execution_count": null,
   "id": "f00cc776-2a6d-4320-ab43-1bef13c982f2",
   "metadata": {},
   "outputs": [],
   "source": [
    "df_1.to_csv('wazzuff.csv')"
   ]
  },
  {
   "cell_type": "code",
   "execution_count": null,
   "id": "ff9b3bf5-196d-4ac5-97a2-39dbc9b962d0",
   "metadata": {},
   "outputs": [],
   "source": [
    "df_1.reset_index(drop=True)"
   ]
  },
  {
   "cell_type": "code",
   "execution_count": null,
   "id": "a3ec58ba-84a9-4476-b34b-61dc37236755",
   "metadata": {},
   "outputs": [],
   "source": []
  }
 ],
 "metadata": {
  "kernelspec": {
   "display_name": "Python 3 (ipykernel)",
   "language": "python",
   "name": "python3"
  },
  "language_info": {
   "codemirror_mode": {
    "name": "ipython",
    "version": 3
   },
   "file_extension": ".py",
   "mimetype": "text/x-python",
   "name": "python",
   "nbconvert_exporter": "python",
   "pygments_lexer": "ipython3",
   "version": "3.12.3"
  }
 },
 "nbformat": 4,
 "nbformat_minor": 5
}
