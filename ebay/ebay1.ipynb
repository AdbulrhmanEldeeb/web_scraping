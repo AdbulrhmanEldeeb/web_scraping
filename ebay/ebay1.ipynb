{
 "cells": [
  {
   "cell_type": "code",
   "execution_count": 1,
   "id": "be785e30-ebad-42c5-bcbc-3284514b77a9",
   "metadata": {},
   "outputs": [],
   "source": [
    "from bs4 import BeautifulSoup \n",
    "import csv \n",
    "import requests \n"
   ]
  },
  {
   "cell_type": "code",
   "execution_count": 3,
   "id": "0cca8b67-74ec-40a9-87b9-a858d662a327",
   "metadata": {},
   "outputs": [],
   "source": [
    "url='https://www.ebay.com/b/Samsung/bn_21834655'\n",
    "headers = {\"User-Agent\": \"Mozilla/5.0 (Windows NT 10.0; Win64; x64) AppleWebKit/537.36 (KHTML, like Gecko) Chrome/78.0.3904.108 Safari/537.36\", \"Accept-Encoding\":\"gzip, deflate\", \"Accept\":\"text/html,application/xhtml+xml,application/xml;q=0.9,*/*;q=0.8\", \"DNT\":\"1\",\"Connection\":\"close\", \"Upgrade-Insecure-Requests\":\"1\"}\n",
    "\n"
   ]
  },
  {
   "cell_type": "code",
   "execution_count": 3,
   "id": "b061c80c-3669-4b13-b521-27bed4fb59ac",
   "metadata": {},
   "outputs": [],
   "source": [
    "html=requests.get(url,headers=headers)\n",
    "\n"
   ]
  },
  {
   "cell_type": "code",
   "execution_count": 4,
   "id": "018b9b21-1990-4ce1-a29b-d55ab03512f0",
   "metadata": {},
   "outputs": [],
   "source": [
    "soup=BeautifulSoup(html.content,'html.parser')"
   ]
  },
  {
   "cell_type": "code",
   "execution_count": 5,
   "id": "3b23ad67-cb34-436c-9490-880f7b2032d0",
   "metadata": {},
   "outputs": [],
   "source": [
    "soup1=BeautifulSoup(soup.prettify(),'html.parser')"
   ]
  },
  {
   "cell_type": "code",
   "execution_count": 7,
   "id": "19ff4585-fc3b-4cfe-b03e-6b0b2edbbfb8",
   "metadata": {},
   "outputs": [],
   "source": [
    "containers=soup1.find_all('div',{'class':'s-item__wrapper clearfix'})"
   ]
  },
  {
   "cell_type": "code",
   "execution_count": null,
   "id": "0ed00989-e5e1-4c2f-91d9-27b64a0cf958",
   "metadata": {},
   "outputs": [],
   "source": []
  },
  {
   "cell_type": "code",
   "execution_count": 26,
   "id": "51b87825-9074-4ed0-94a8-74a9ad512b27",
   "metadata": {},
   "outputs": [
    {
     "data": {
      "text/plain": [
       "'Samsung Galaxy A54 5G 128GB SM-A546 50 MP (Unlocked T-Mobile AT&T) 2Day Fedex'"
      ]
     },
     "execution_count": 26,
     "metadata": {},
     "output_type": "execute_result"
    }
   ],
   "source": [
    "product=containers[0].find('span',{'class':'BOLD'}).text.strip()\n",
    "product "
   ]
  },
  {
   "cell_type": "code",
   "execution_count": 27,
   "id": "4c660dd5-45c0-4c05-8fd8-3f0df6c61beb",
   "metadata": {},
   "outputs": [
    {
     "data": {
      "text/plain": [
       "'219.99'"
      ]
     },
     "execution_count": 27,
     "metadata": {},
     "output_type": "execute_result"
    }
   ],
   "source": [
    "price1=containers[0].find('span',{'class':'s-item__price'}).text.strip()[1:7]\n",
    "price1"
   ]
  },
  {
   "cell_type": "code",
   "execution_count": 23,
   "id": "bf969752-14c3-4450-b095-084ad794197b",
   "metadata": {},
   "outputs": [
    {
     "data": {
      "text/plain": [
       "'259.99'"
      ]
     },
     "execution_count": 23,
     "metadata": {},
     "output_type": "execute_result"
    }
   ],
   "source": [
    "price2=containers[0].find('span',{'class':'s-item__price'}).text.strip()[-6:]\n",
    "price2"
   ]
  },
  {
   "cell_type": "code",
   "execution_count": 25,
   "id": "efa4e32f-4337-407f-954f-ef2c8a456b63",
   "metadata": {},
   "outputs": [
    {
     "data": {
      "text/plain": [
       "'33.91'"
      ]
     },
     "execution_count": 25,
     "metadata": {},
     "output_type": "execute_result"
    }
   ],
   "source": [
    "shipping=containers[0].find('span',{'class':'s-item__shipping s-item__logisticsCost'}).text.strip()[1:6]\n",
    "shipping"
   ]
  },
  {
   "cell_type": "code",
   "execution_count": 6,
   "id": "a80bc520-7ee6-4532-83bd-381f21756001",
   "metadata": {},
   "outputs": [],
   "source": [
    "head=['Product','price','Shipping_cost']\n",
    "\n",
    "with   open('ebay_phones.csv','w',newline='',encoding='UTF8')  as f :\n",
    "    writer=csv.writer(f)\n",
    "    writer.writerow(head)\n",
    "    # writer.writerow(data)\n"
   ]
  },
  {
   "cell_type": "code",
   "execution_count": 48,
   "id": "faf67f94-f3d0-4951-846c-8b4190097a8e",
   "metadata": {},
   "outputs": [],
   "source": []
  },
  {
   "cell_type": "code",
   "execution_count": 27,
   "id": "86ec2b0b-55ab-486e-a6b8-5bc9a60472c5",
   "metadata": {},
   "outputs": [],
   "source": []
  },
  {
   "cell_type": "code",
   "execution_count": 7,
   "id": "015e3c3d-b73c-4862-ab3a-4dbf8fcf65db",
   "metadata": {},
   "outputs": [
    {
     "name": "stdout",
     "output_type": "stream",
     "text": [
      "Error on page 1: 503 Server Error: Service Unavailable for url: https://www.ebay.com/b/Samsung/bn_21834655?_pgn=1\n",
      "Error on page 2: 503 Server Error: Service Unavailable for url: https://www.ebay.com/b/Samsung/bn_21834655?_pgn=2\n",
      "Error on page 21: 503 Server Error: Service Unavailable for url: https://www.ebay.com/b/Samsung/bn_21834655?rt=nc&_pgn=21\n",
      "Error on page 25: 503 Server Error: Service Unavailable for url: https://www.ebay.com/b/Samsung/bn_21834655?rt=nc&_pgn=25\n",
      "Error on page 26: 503 Server Error: Service Unavailable for url: https://www.ebay.com/b/Samsung/bn_21834655?_pgn=26\n",
      "Error on page 27: 503 Server Error: Service Unavailable for url: https://www.ebay.com/b/Samsung/bn_21834655?_pgn=27\n",
      "Error on page 28: 503 Server Error: Service Unavailable for url: https://www.ebay.com/b/Samsung/bn_21834655?rt=nc&_pgn=28\n",
      "Error on page 29: 503 Server Error: Service Unavailable for url: https://www.ebay.com/b/Samsung/bn_21834655?_pgn=29\n",
      "Error on page 30: 503 Server Error: Service Unavailable for url: https://www.ebay.com/b/Samsung/bn_21834655?_pgn=30\n",
      "Error on page 31: 503 Server Error: Service Unavailable for url: https://www.ebay.com/b/Samsung/bn_21834655?rt=nc&_pgn=31\n",
      "Error on page 55: 503 Server Error: Service Unavailable for url: https://www.ebay.com/b/Samsung/bn_21834655?_pgn=55\n",
      "Error on page 57: 503 Server Error: Service Unavailable for url: https://www.ebay.com/b/Samsung/bn_21834655?rt=nc&_pgn=57\n",
      "Error on page 58: 503 Server Error: Service Unavailable for url: https://www.ebay.com/b/Samsung/bn_21834655?_pgn=58\n",
      "Error on page 60: 503 Server Error: Service Unavailable for url: https://www.ebay.com/b/Samsung/bn_21834655?_pgn=60\n",
      "Error on page 136: 503 Server Error: Service Unavailable for url: https://www.ebay.com/b/Samsung/bn_21834655?_pgn=136\n",
      "Error on page 137: 503 Server Error: Service Unavailable for url: https://www.ebay.com/b/Samsung/bn_21834655?rt=nc&_pgn=137\n",
      "Error on page 164: 503 Server Error: Service Unavailable for url: https://www.ebay.com/b/Samsung/bn_21834655?_pgn=164\n",
      "Error on page 165: 503 Server Error: Service Unavailable for url: https://www.ebay.com/b/Samsung/bn_21834655?rt=nc&_pgn=165\n",
      "Error on page 167: 503 Server Error: Service Unavailable for url: https://www.ebay.com/b/Samsung/bn_21834655?_pgn=167\n",
      "Error on page 169: 503 Server Error: Service Unavailable for url: https://www.ebay.com/b/Samsung/bn_21834655?_pgn=169\n",
      "Error on page 170: 503 Server Error: Service Unavailable for url: https://www.ebay.com/b/Samsung/bn_21834655?_pgn=170\n",
      "Error on page 171: 503 Server Error: Service Unavailable for url: https://www.ebay.com/b/Samsung/bn_21834655?_pgn=171\n",
      "Error on page 175: 503 Server Error: Service Unavailable for url: https://www.ebay.com/b/Samsung/bn_21834655?rt=nc&_pgn=175\n",
      "Error on page 176: 503 Server Error: Service Unavailable for url: https://www.ebay.com/b/Samsung/bn_21834655?_pgn=176\n",
      "Error on page 177: 503 Server Error: Service Unavailable for url: https://www.ebay.com/b/Samsung/bn_21834655?_pgn=177\n",
      "Error on page 178: 503 Server Error: Service Unavailable for url: https://www.ebay.com/b/Samsung/bn_21834655?rt=nc&_pgn=178\n",
      "Error on page 179: 503 Server Error: Service Unavailable for url: https://www.ebay.com/b/Samsung/bn_21834655?_pgn=179\n"
     ]
    }
   ],
   "source": [
    "import requests\n",
    "from bs4 import BeautifulSoup\n",
    "import csv\n",
    "import time\n",
    "\n",
    "def get_data(page_num):\n",
    "    url = f'https://www.ebay.com/b/Samsung/bn_21834655?_pgn={page_num}'\n",
    "    headers = {\"User-Agent\": \"Mozilla/5.0 (Windows NT 10.0; Win64; x64) AppleWebKit/537.36 (KHTML, like Gecko) Chrome/78.0.3904.108 Safari/537.36\", \"Accept-Encoding\":\"gzip, deflate\", \"Accept\":\"text/html,application/xhtml+xml,application/xml;q=0.9,*/*;q=0.8\", \"DNT\":\"1\",\"Connection\":\"close\", \"Upgrade-Insecure-Requests\":\"1\"}\n",
    "\n",
    "    try:\n",
    "        html = requests.get(url, headers=headers)\n",
    "        html.raise_for_status()  # Raise an exception for bad responses (4xx or 5xx)\n",
    "        soup = BeautifulSoup(html.content, 'html.parser')\n",
    "        containers = soup.find_all('div', {'class': 's-item__wrapper clearfix'})\n",
    "\n",
    "        with open('ebay_phones.csv', 'a+', newline='', encoding='UTF8') as f:\n",
    "            writer = csv.writer(f)\n",
    "\n",
    "            for container in containers:\n",
    "                product = container.find('span', {'class': 'BOLD'})\n",
    "                product_1 = container.find('h3', {'class': 's-item__title'})\n",
    "                price = container.find('span', {'class': 's-item__price'}).text.strip()\n",
    "                try:\n",
    "                    shipping = container.find('span', {'class': 's-item__shipping s-item__logisticsCost'}).text.strip()[1:6]\n",
    "                except :\n",
    "                    shipping=' '\n",
    "                if product:\n",
    "                    data = [product.text.strip(), price, shipping]\n",
    "                elif product_1:\n",
    "                    data = [product_1.text.strip(), price, shipping]\n",
    "\n",
    "                writer.writerow(data)\n",
    "\n",
    "    except requests.exceptions.RequestException as e:\n",
    "        print(f\"Error on page {page_num}: {e}\")\n",
    "\n",
    "if __name__ == \"__main__\":\n",
    "    for page_num in range(1,205):\n",
    "                    \n",
    "        get_data(page_num)\n",
    "        time.sleep(1)  \n",
    "        "
   ]
  },
  {
   "cell_type": "code",
   "execution_count": null,
   "id": "88ad728f-1a9a-47db-aab6-ea435d1ee711",
   "metadata": {},
   "outputs": [],
   "source": []
  },
  {
   "cell_type": "code",
   "execution_count": 50,
   "id": "f1799d96-bd47-4597-b299-1e9e7492722c",
   "metadata": {},
   "outputs": [],
   "source": [
    "df_1=pd.read_csv('ebay_phones24.csv')"
   ]
  },
  {
   "cell_type": "code",
   "execution_count": 53,
   "id": "5e69c617-527e-47d1-b50e-d667ca2419b7",
   "metadata": {},
   "outputs": [],
   "source": [
    "df_1.drop('Unnamed: 0',inplace=True,axis=1)"
   ]
  },
  {
   "cell_type": "code",
   "execution_count": null,
   "id": "36a4287b-03b4-4f03-8e19-72ef63b8d849",
   "metadata": {},
   "outputs": [],
   "source": []
  },
  {
   "cell_type": "code",
   "execution_count": null,
   "id": "7015ffc6-49de-4042-827c-b27598c2e674",
   "metadata": {},
   "outputs": [],
   "source": []
  },
  {
   "cell_type": "code",
   "execution_count": null,
   "id": "38616dd0-b248-4f45-88d8-e79283994b72",
   "metadata": {},
   "outputs": [],
   "source": []
  },
  {
   "cell_type": "code",
   "execution_count": null,
   "id": "08e8e388-9f0f-43a5-8baa-412229fffd38",
   "metadata": {},
   "outputs": [],
   "source": []
  },
  {
   "cell_type": "code",
   "execution_count": 55,
   "id": "18629b53-1ba9-4fe7-a33f-c7eb4ef5f962",
   "metadata": {},
   "outputs": [],
   "source": [
    "df_1.to_csv('ebay_phones24.csv',encoding='UTF8')"
   ]
  },
  {
   "cell_type": "code",
   "execution_count": null,
   "id": "5498c53a-5336-46ba-a241-ca2ba6db9cea",
   "metadata": {},
   "outputs": [],
   "source": []
  }
 ],
 "metadata": {
  "kernelspec": {
   "display_name": "Python 3 (ipykernel)",
   "language": "python",
   "name": "python3"
  },
  "language_info": {
   "codemirror_mode": {
    "name": "ipython",
    "version": 3
   },
   "file_extension": ".py",
   "mimetype": "text/x-python",
   "name": "python",
   "nbconvert_exporter": "python",
   "pygments_lexer": "ipython3",
   "version": "3.12.3"
  }
 },
 "nbformat": 4,
 "nbformat_minor": 5
}
